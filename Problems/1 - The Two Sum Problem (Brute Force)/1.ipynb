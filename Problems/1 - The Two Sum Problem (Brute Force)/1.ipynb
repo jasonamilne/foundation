{
 "cells": [
  {
   "cell_type": "code",
   "execution_count": 41,
   "metadata": {},
   "outputs": [
    {
     "name": "stdout",
     "output_type": "stream",
     "text": [
      "Overwriting solutions.py\n"
     ]
    }
   ],
   "source": [
    "%%writefile solutions.py\n",
    "import pytest\n",
    "\n",
    "class Solution():\n",
    "    def twoSum(self, nums: list[int], target: int) -> list[int]:\n",
    "        \"\"\"\n",
    "        Psuedocode:\n",
    "        1. enumerate nums\n",
    "        2. for i in range(len(nums)):\n",
    "        3. for j in range(i+1, len(nums)):\n",
    "        4. if nums[i] + nums[j] == target:\n",
    "        5. return [i, j]\n",
    "        6. return []\n",
    "\n",
    "        Time complexity: O(n^2)\n",
    "        Space complexity: O(1)  \n",
    "        Algorithm: Brute force\n",
    "        \"\"\"\n",
    "        if type(nums) != list or not all(isinstance(x, int) for x in nums) or type(target) != int or len(nums) < 2:\n",
    "            raise ValueError(\"Input must be a list of integers\")\n",
    "        for i in range(len(nums)): \n",
    "            for j in range(i+1, len(nums)):\n",
    "                if nums[i] + nums[j] == target:\n",
    "                    return [i, j]\n",
    "        return []"
   ]
  },
  {
   "cell_type": "code",
   "execution_count": 42,
   "metadata": {},
   "outputs": [
    {
     "name": "stdout",
     "output_type": "stream",
     "text": [
      "Overwriting test_solutions.py\n"
     ]
    }
   ],
   "source": [
    "%%writefile test_solutions.py\n",
    "from solutions import Solution\n",
    "import pytest\n",
    "\n",
    "@pytest.fixture\n",
    "def solution():\n",
    "    return Solution()\n",
    "\n",
    "def test_twoSum(solution):\n",
    "    assert solution.twoSum([2, 7, 11, 15], 9) == [0, 1] # i = 0, j = 0:1\n",
    "    assert solution.twoSum([3, 2, 4], 6) == [1, 2] # i = 1, j = 0:2\n",
    "    assert solution.twoSum([3, 3], 6) == [0, 1] # i = 0, j = 0:1\n",
    "    assert solution.twoSum([1,2,3,4,5,6,7,8,9,10], 19) == [8, 9] # i = 8, j = 9\n",
    "\n",
    "def test_input_error_cases(solution):\n",
    "    with pytest.raises(ValueError, match=\"Input must be a list of integers\"):\n",
    "        solution.twoSum(['a', 2, 3, 4, 5, 6, 7, 8, 9, 10], 19)\n",
    "    \n",
    "    with pytest.raises(ValueError, match=\"Input must be a list of integers\"):\n",
    "        solution.twoSum([2, 3, 4, 5, 6, 7, 8, 9, 10], 'a')\n",
    "\n",
    "    with pytest.raises(ValueError, match=\"Input must be a list of integers\"):\n",
    "        solution.twoSum([2, 3, 4, 5, 6, 7, 8, 9, 10], [1, 2, 3])\n",
    "\n",
    "    with pytest.raises(ValueError, match=\"Input must be a list of integers\"):\n",
    "        solution.twoSum([], 1)\n",
    "\n",
    "    with pytest.raises(ValueError, match=\"Input must be a list of integers\"):\n",
    "        solution.twoSum([1], 1)\n",
    "\n",
    "def test_time_complexity(solution):\n",
    "    import time\n",
    "    import random\n",
    "\n",
    "    def generate_large_input(size):\n",
    "        return [random.randint(1, 1000000) for _ in range(size)]\n",
    "\n",
    "    sizes = [1000, 2000, 4000, 8000]\n",
    "    times = []\n",
    "\n",
    "    for size in sizes:\n",
    "        nums = generate_large_input(size)\n",
    "        target = nums[0] + nums[-1]  # Ensure worst-case scenario\n",
    "        \n",
    "        start_time = time.time()\n",
    "        solution.twoSum(nums, target)\n",
    "        end_time = time.time()\n",
    "        \n",
    "        times.append(end_time - start_time)\n",
    "\n",
    "    # Check if time complexity is quadratic (O(n^2))\n",
    "    ratios = [times[i+1]/times[i] for i in range(len(times)-1)]\n",
    "    average_ratio = sum(ratios) / len(ratios)\n",
    "\n",
    "    # If the average ratio is close to 4, it suggests quadratic time complexity\n",
    "    assert average_ratio < 4.5, f\"Expected quadratic time complexity, but got ratio: {average_ratio}\""
   ]
  },
  {
   "cell_type": "code",
   "execution_count": 43,
   "metadata": {},
   "outputs": [
    {
     "name": "stdout",
     "output_type": "stream",
     "text": [
      "\u001b[32m.\u001b[0m\u001b[32m.\u001b[0m\u001b[32m.\u001b[0m\u001b[32m                                                                      [100%]\u001b[0m\n",
      "\u001b[32m\u001b[32m\u001b[1m3 passed\u001b[0m\u001b[32m in 0.01s\u001b[0m\u001b[0m\n"
     ]
    }
   ],
   "source": [
    "!pytest -q --tb=short test_solutions.py"
   ]
  }
 ],
 "metadata": {
  "kernelspec": {
   "display_name": "Python 3",
   "language": "python",
   "name": "python3"
  },
  "language_info": {
   "codemirror_mode": {
    "name": "ipython",
    "version": 3
   },
   "file_extension": ".py",
   "mimetype": "text/x-python",
   "name": "python",
   "nbconvert_exporter": "python",
   "pygments_lexer": "ipython3",
   "version": "3.10.12"
  }
 },
 "nbformat": 4,
 "nbformat_minor": 2
}
