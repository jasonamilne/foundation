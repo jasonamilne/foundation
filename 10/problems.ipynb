{
 "cells": [
  {
   "cell_type": "code",
   "execution_count": 4,
   "metadata": {},
   "outputs": [
    {
     "name": "stdout",
     "output_type": "stream",
     "text": [
      "Overwriting solution.py\n"
     ]
    }
   ],
   "source": [
    "%%writefile solution.py\n",
    "from typing import List\n",
    "\n",
    "class Solution:\n",
    "    def twoSum(self, nums: List[int], target: int) -> List[int]:\n",
    "        \"\"\"\n",
    "        Given an array of integers `nums` and an integer `target`, \n",
    "        return the indices of the two numbers such that they add up to `target`.\n",
    "\n",
    "        Args:\n",
    "            nums (List[int]): A list of integers.\n",
    "            target (int): The target integer.\n",
    "\n",
    "        Returns:\n",
    "            List[int]: Indices of the two numbers such that they add up to the target.\n",
    "        \n",
    "        Example:\n",
    "            >>> solution = Solution()\n",
    "            >>> solution.twoSum([2, 7, 11, 15], 9)\n",
    "            [0, 1]\n",
    "        \n",
    "        Note:\n",
    "            Each input will have exactly one solution. You may not use the same element twice.\n",
    "        \"\"\"\n",
    "        \n",
    "        # Brute force: O(n^2)\n",
    "        \"\"\"\n",
    "        for i in range(len(nums)):  # O(n) - Iterates through the list once\n",
    "            for j in range(i + 1, len(nums)):  # O(n) - Iterates through the remaining elements for each i\n",
    "                if nums[i] + nums[j] == target:  # O(1) - Checks if the sum of the two elements is equal to the target\n",
    "                    return [i, j]  # O(1) - Returns the indices if the condition is met\n",
    "        return []  # O(1) - Returns an empty list if no pair is found\n",
    "        \"\"\"\n",
    "\n",
    "        # Hash map: O(n)\n",
    "        num_to_index = {}  # O(1) - Initializing an empty dictionary\n",
    "        for i, num in enumerate(nums):  # O(n) - Iterating through the list once\n",
    "            complement = target - num  # O(1) - Subtraction operation\n",
    "            if complement in num_to_index:  # O(1) - Dictionary lookup\n",
    "                return [num_to_index[complement], i]  # O(1) - Access and return\n",
    "            num_to_index[num] = i  # O(1) - Dictionary insertion\n",
    "        return []  # O(1) - Return statement"
   ]
  },
  {
   "cell_type": "code",
   "execution_count": 5,
   "metadata": {},
   "outputs": [
    {
     "name": "stdout",
     "output_type": "stream",
     "text": [
      "Overwriting test_solution_1.py\n"
     ]
    }
   ],
   "source": [
    "%%writefile test_solution_1.py\n",
    "import pytest\n",
    "from solution import Solution\n",
    "\n",
    "@pytest.fixture\n",
    "def solution():\n",
    "    return Solution()\n",
    "\n",
    "def test_two_sum_basic(solution):\n",
    "    assert solution.twoSum([2, 7, 11, 15], 9) == [0, 1]\n",
    "\n",
    "def test_two_sum_multiple_pairs(solution):\n",
    "    result = solution.twoSum([3, 2, 4], 6)\n",
    "    assert result == [1, 2] or result == [2, 1]\n",
    "\n",
    "def test_two_sum_no_pair(solution):\n",
    "    assert solution.twoSum([1, 2, 3], 7) == []\n",
    "\n",
    "def test_two_sum_negative_numbers(solution):\n",
    "    assert solution.twoSum([-1, -2, -3, -4, -5], -8) == [2, 4]\n",
    "\n",
    "def test_two_sum_duplicates(solution):\n",
    "    assert solution.twoSum([3, 3], 6) == [0, 1]\n",
    "\n",
    "def test_two_sum_large_numbers(solution):\n",
    "    assert solution.twoSum([1000000000, 300000000, 700000000], 1000000000) == [1, 2]"
   ]
  },
  {
   "cell_type": "code",
   "execution_count": 6,
   "metadata": {},
   "outputs": [
    {
     "name": "stdout",
     "output_type": "stream",
     "text": [
      "\u001b[32m.\u001b[0m\u001b[32m.\u001b[0m\u001b[32m.\u001b[0m\u001b[32m.\u001b[0m\u001b[32m.\u001b[0m\u001b[32m.\u001b[0m\u001b[32m                                                                   [100%]\u001b[0m\n",
      "\u001b[32m\u001b[32m\u001b[1m6 passed\u001b[0m\u001b[32m in 0.02s\u001b[0m\u001b[0m\n"
     ]
    }
   ],
   "source": [
    "# Run the tests\n",
    "!pytest -q --tb=short test_solution_1.py"
   ]
  },
  {
   "cell_type": "code",
   "execution_count": null,
   "metadata": {},
   "outputs": [],
   "source": []
  }
 ],
 "metadata": {
  "kernelspec": {
   "display_name": "Python 3",
   "language": "python",
   "name": "python3"
  },
  "language_info": {
   "codemirror_mode": {
    "name": "ipython",
    "version": 3
   },
   "file_extension": ".py",
   "mimetype": "text/x-python",
   "name": "python",
   "nbconvert_exporter": "python",
   "pygments_lexer": "ipython3",
   "version": "3.10.12"
  }
 },
 "nbformat": 4,
 "nbformat_minor": 2
}
