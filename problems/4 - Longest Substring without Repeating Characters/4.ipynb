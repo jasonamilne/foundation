{
 "cells": [
  {
   "cell_type": "code",
   "execution_count": 9,
   "metadata": {},
   "outputs": [],
   "source": [
    "class Solution():\n",
    "    def lengthOfLongestSubstring(self, s: str) -> int:\n",
    "        \"\"\"\n",
    "        Psuedocode:\n",
    "        1. Initialize a char_map to store the last index of each character.\n",
    "        2. Initialize left and max_length to 0.\n",
    "        3. Iterate over the string with the right pointer.\n",
    "        4. If the character is in char_map and its index is greater than or equal to left, update left.\n",
    "        5. Update the char_map with the current character and its index.\n",
    "        6. Update max_length with the maximum value between max_length and the distance between left and right plus one.\n",
    "\n",
    "        Args:\n",
    "            s (str): The input string.\n",
    "\n",
    "        Returns:\n",
    "            int: The length of the longest substring without repeating characters.\n",
    "\n",
    "        Performance:\n",
    "            Time Complexity: O(n)\n",
    "            Space Complexity: O(min(n, m)) where n is the length of the input string and m is the size of the character set.\n",
    "            Algorithm: Sliding Window\n",
    "\n",
    "        Examples:\n",
    "        >>> solution = Solution()\n",
    "        >>> solution.lengthOfLongestSubstring(\"abcabcbb\")\n",
    "        3\n",
    "        >>> solution.lengthOfLongestSubstring(\"bbbbb\")\n",
    "        1\n",
    "        >>> solution.lengthOfLongestSubstring(\"pwwkew\")\n",
    "        3\n",
    "        \"\"\"\n",
    "        char_map = {}\n",
    "        left = 0\n",
    "        max_length = 0\n",
    "\n",
    "        for right in range(len(s)):\n",
    "            if s[right] in char_map and char_map[s[right]] >= left:\n",
    "                left = char_map[s[right]] + 1\n",
    "            char_map[s[right]] = right\n",
    "            max_length = max(max_length, right - left + 1)\n",
    "\n",
    "        return max_length"
   ]
  },
  {
   "cell_type": "code",
   "execution_count": 10,
   "metadata": {},
   "outputs": [
    {
     "name": "stdout",
     "output_type": "stream",
     "text": [
      "Overwriting test_solutions.py\n"
     ]
    }
   ],
   "source": [
    "%%writefile test_solutions.py\n",
    "from solutions import Solution\n",
    "import pytest\n",
    "import random\n",
    "import string\n",
    "\n",
    "@pytest.fixture\n",
    "def solution():\n",
    "    return Solution()\n",
    "\n",
    "# Test normal cases functionality\n",
    "def test_lengthOfLongestSubstring_normal_cases(solution):\n",
    "    assert solution.lengthOfLongestSubstring(\"abcabcbb\") == 3  # \"abc\"\n",
    "    assert solution.lengthOfLongestSubstring(\"bbbbb\") == 1     # \"b\"\n",
    "    assert solution.lengthOfLongestSubstring(\"pwwkew\") == 3    # \"wke\"\n",
    "    assert solution.lengthOfLongestSubstring(\"\") == 0          # \"\"\n",
    "    assert solution.lengthOfLongestSubstring(\" \") == 1         # \" \"\n",
    "    assert solution.lengthOfLongestSubstring(\"au\") == 2        # \"au\"\n",
    "    assert solution.lengthOfLongestSubstring(\"dvdf\") == 3      # \"vdf\"\n",
    "\n",
    "# Test edge cases functionality\n",
    "def test_lengthOfLongestSubstring_edge_cases(solution):\n",
    "    assert solution.lengthOfLongestSubstring(\"\") == 0          # \"\"\n",
    "    assert solution.lengthOfLongestSubstring(\" \") == 1         # \" \"\n",
    "\n",
    "# Test special cases functionality\n",
    "def test_lengthOfLongestSubstring_special_cases(solution):\n",
    "    assert solution.lengthOfLongestSubstring(\"a\") == 1         # \"a\"\n",
    "    assert solution.lengthOfLongestSubstring(\"abcdefg\") == 7   # \"abcdefg\"\n",
    "\n",
    "# Test performance cases functionality\n",
    "def test_lengthOfLongestSubstring_performance_cases(solution):\n",
    "    long_string = \"a\" * 10000 + \"b\"\n",
    "    assert solution.lengthOfLongestSubstring(long_string) == 2  # \"ab\"\n",
    "\n",
    "# Test alternative paths functionality\n",
    "def test_lengthOfLongestSubstring_alternative_paths(solution):\n",
    "    assert solution.lengthOfLongestSubstring(\"abba\") == 2      # \"ab\" or \"ba\"\n",
    "\n",
    "# Test compatibility cases functionality\n",
    "def test_lengthOfLongestSubstring_compatibility_cases(solution):\n",
    "    assert solution.lengthOfLongestSubstring(\"abcABC\") == 6    # \"abcABC\"\n",
    "\n",
    "# Test usability cases functionality\n",
    "def test_lengthOfLongestSubstring_usability_cases(solution):\n",
    "    assert solution.lengthOfLongestSubstring(\"a b c\") == 3     # \"a b c\"\n",
    "\n",
    "# Test localization cases functionality\n",
    "def test_lengthOfLongestSubstring_localization_cases(solution):\n",
    "    assert solution.lengthOfLongestSubstring(\"你好世界你好世界\") == 4  # \"你好世界\"\n",
    "\n",
    "# Test regression testing functionality\n",
    "def test_lengthOfLongestSubstring_regression_testing(solution):\n",
    "    # Assuming a previous bug with specific input\n",
    "    assert solution.lengthOfLongestSubstring(\"dvdf\") == 3      # \"vdf\"\n",
    "\n",
    "# Test all identical characters functionality\n",
    "def test_lengthOfLongestSubstring_all_identical_characters(solution):\n",
    "    assert solution.lengthOfLongestSubstring(\"aaaaa\") == 1     # \"a\"\n",
    "\n",
    "# Test long unique string functionality\n",
    "def test_lengthOfLongestSubstring_long_unique_string(solution):\n",
    "    assert solution.lengthOfLongestSubstring(\"abcdefghijklmnopqrstuvwxyz\") == 26  # \"abcdefghijklmnopqrstuvwxyz\"\n",
    "\n",
    "# Test special characters functionality\n",
    "def test_lengthOfLongestSubstring_special_characters(solution):\n",
    "    assert solution.lengthOfLongestSubstring(\"a!@#b!@#c\") == 5  # \"a!@#b\"\n",
    "\n",
    "# Test robustness by utilizing random strings\n",
    "def test_lengthOfLongestSubstring_randomized(solution):\n",
    "    for _ in range(10):  # Run 10 random tests\n",
    "        random_string = ''.join(random.choices(string.ascii_letters + string.digits, k=100))\n",
    "        # Since the string is random, we can't predict the exact result, but we can ensure it runs without error\n",
    "        result = solution.lengthOfLongestSubstring(random_string)\n",
    "        assert isinstance(result, int)  # Ensure the result is an integer\n",
    "\n",
    "# Test edge case with maximum length\n",
    "def test_lengthOfLongestSubstring_max_length(solution):\n",
    "    max_length_string = ''.join(random.choices(string.ascii_letters + string.digits, k=1000000))\n",
    "    # This test is primarily to ensure performance and should complete in a reasonable time\n",
    "    result = solution.lengthOfLongestSubstring(max_length_string)\n",
    "    assert isinstance(result, int)  # Ensure the result is an integer\n"
   ]
  },
  {
   "cell_type": "code",
   "execution_count": 11,
   "metadata": {},
   "outputs": [
    {
     "name": "stdout",
     "output_type": "stream",
     "text": [
      "\u001b[32m.\u001b[0m\u001b[32m.\u001b[0m\u001b[32m.\u001b[0m\u001b[32m.\u001b[0m\u001b[32m.\u001b[0m\u001b[32m.\u001b[0m\u001b[32m.\u001b[0m\u001b[32m.\u001b[0m\u001b[32m.\u001b[0m\u001b[32m.\u001b[0m\u001b[32m.\u001b[0m\u001b[32m.\u001b[0m\u001b[32m.\u001b[0m\u001b[32m.\u001b[0m\u001b[32m                                                           [100%]\u001b[0m\n",
      "\u001b[32m\u001b[32m\u001b[1m14 passed\u001b[0m\u001b[32m in 0.21s\u001b[0m\u001b[0m\n"
     ]
    }
   ],
   "source": [
    "!pytest -q --tb=short test_solutions.py"
   ]
  },
  {
   "cell_type": "code",
   "execution_count": null,
   "metadata": {},
   "outputs": [],
   "source": []
  }
 ],
 "metadata": {
  "kernelspec": {
   "display_name": "Python 3",
   "language": "python",
   "name": "python3"
  },
  "language_info": {
   "codemirror_mode": {
    "name": "ipython",
    "version": 3
   },
   "file_extension": ".py",
   "mimetype": "text/x-python",
   "name": "python",
   "nbconvert_exporter": "python",
   "pygments_lexer": "ipython3",
   "version": "3.10.12"
  }
 },
 "nbformat": 4,
 "nbformat_minor": 2
}
