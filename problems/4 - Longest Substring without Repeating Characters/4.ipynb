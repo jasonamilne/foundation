{
 "cells": [
  {
   "cell_type": "code",
   "execution_count": 53,
   "metadata": {},
   "outputs": [],
   "source": [
    "class Solution():\n",
    "    def lengthOfLongestSubstring(self, s: str) -> int:\n",
    "        char_map = {}\n",
    "        left = 0\n",
    "        max_length = 0\n",
    "\n",
    "        for right in range(len(s)):\n",
    "            if s[right] in char_map and char_map[s[right]] >= left:\n",
    "                left = char_map[s[right]] + 1\n",
    "            char_map[s[right]] = right\n",
    "            # print(f\"left: {left}, right: {right}, max_length: {max_length}\")\n",
    "            max_length = max(max_length, right - left + 1)\n",
    "\n",
    "        return max_length"
   ]
  },
  {
   "cell_type": "code",
   "execution_count": 54,
   "metadata": {},
   "outputs": [
    {
     "name": "stdout",
     "output_type": "stream",
     "text": [
      "Overwriting test_solutions.py\n"
     ]
    }
   ],
   "source": [
    "%%writefile test_solutions.py\n",
    "from solutions import Solution\n",
    "import pytest\n",
    "\n",
    "@pytest.fixture\n",
    "def solution():\n",
    "    return Solution()\n",
    "\n",
    "def test_lengthOfLongestSubstring(solution):\n",
    "    assert solution.lengthOfLongestSubstring(\"abcabcbb\") == 3  # \"abc\"\n",
    "    assert solution.lengthOfLongestSubstring(\"bbbbb\") == 1     # \"b\"\n",
    "    assert solution.lengthOfLongestSubstring(\"pwwkew\") == 3    # \"wke\"\n",
    "    assert solution.lengthOfLongestSubstring(\"\") == 0          # \"\"\n",
    "    assert solution.lengthOfLongestSubstring(\" \") == 1         # \" \"\n",
    "    assert solution.lengthOfLongestSubstring(\"au\") == 2        # \"au\"\n",
    "    assert solution.lengthOfLongestSubstring(\"dvdf\") == 3      # \"vdf\"\n",
    "\n",
    "def test_lengthOfLongestSubstring_normal_cases(solution):\n",
    "    assert solution.lengthOfLongestSubstring(\"abcabcbb\") == 3  # \"abc\"\n",
    "    assert solution.lengthOfLongestSubstring(\"pwwkew\") == 3    # \"wke\"\n",
    "\n",
    "def test_lengthOfLongestSubstring_edge_cases(solution):\n",
    "    assert solution.lengthOfLongestSubstring(\"\") == 0          # \"\"\n",
    "    assert solution.lengthOfLongestSubstring(\" \") == 1         # \" \"\n",
    "\n",
    "def test_lengthOfLongestSubstring_special_cases(solution):\n",
    "    assert solution.lengthOfLongestSubstring(\"a\") == 1         # \"a\"\n",
    "    assert solution.lengthOfLongestSubstring(\"abcdefg\") == 7   # \"abcdefg\"\n",
    "\n",
    "def test_lengthOfLongestSubstring_performance_cases(solution):\n",
    "    long_string = \"a\" * 10000 + \"b\"\n",
    "    assert solution.lengthOfLongestSubstring(long_string) == 2  # \"ab\"\n",
    "\n",
    "def test_lengthOfLongestSubstring_alternative_paths(solution):\n",
    "    assert solution.lengthOfLongestSubstring(\"abba\") == 2      # \"ab\" or \"ba\"\n",
    "\n",
    "def test_lengthOfLongestSubstring_compatibility_cases(solution):\n",
    "    assert solution.lengthOfLongestSubstring(\"abcABC\") == 6    # \"abcABC\"\n",
    "\n",
    "def test_lengthOfLongestSubstring_usability_cases(solution):\n",
    "    assert solution.lengthOfLongestSubstring(\"a b c\") == 3     # \"a b c\"\n",
    "\n",
    "def test_lengthOfLongestSubstring_localization_cases(solution):\n",
    "    assert solution.lengthOfLongestSubstring(\"你好世界你好世界\") == 4  # \"你好世界\"\n",
    "\n",
    "def test_lengthOfLongestSubstring_regression_testing(solution):\n",
    "    # Assuming a previous bug with specific input\n",
    "    assert solution.lengthOfLongestSubstring(\"dvdf\") == 3      # \"vdf\""
   ]
  },
  {
   "cell_type": "code",
   "execution_count": 55,
   "metadata": {},
   "outputs": [
    {
     "name": "stdout",
     "output_type": "stream",
     "text": [
      "\u001b[32m.\u001b[0m\u001b[32m.\u001b[0m\u001b[32m.\u001b[0m\u001b[32m.\u001b[0m\u001b[32m.\u001b[0m\u001b[32m.\u001b[0m\u001b[32m.\u001b[0m\u001b[32m.\u001b[0m\u001b[32m.\u001b[0m\u001b[32m.\u001b[0m\u001b[32m                                                               [100%]\u001b[0m\n",
      "\u001b[32m\u001b[32m\u001b[1m10 passed\u001b[0m\u001b[32m in 0.02s\u001b[0m\u001b[0m\n"
     ]
    }
   ],
   "source": [
    "!pytest -q --tb=short test_solutions.py"
   ]
  },
  {
   "cell_type": "code",
   "execution_count": null,
   "metadata": {},
   "outputs": [],
   "source": []
  }
 ],
 "metadata": {
  "kernelspec": {
   "display_name": "Python 3",
   "language": "python",
   "name": "python3"
  },
  "language_info": {
   "codemirror_mode": {
    "name": "ipython",
    "version": 3
   },
   "file_extension": ".py",
   "mimetype": "text/x-python",
   "name": "python",
   "nbconvert_exporter": "python",
   "pygments_lexer": "ipython3",
   "version": "3.10.12"
  }
 },
 "nbformat": 4,
 "nbformat_minor": 2
}
