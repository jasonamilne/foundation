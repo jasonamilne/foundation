{
 "cells": [
  {
   "cell_type": "code",
   "execution_count": 15,
   "metadata": {},
   "outputs": [
    {
     "name": "stdout",
     "output_type": "stream",
     "text": [
      "Overwriting solutions.py\n"
     ]
    }
   ],
   "source": [
    "%%writefile solutions.py\n",
    "from typing import List\n",
    "\n",
    "class Solution():\n",
    "    def findMedianSortedArrays(self, nums1: List[int], nums2: List[int]) -> float:\n",
    "        \"\"\"\n",
    "        Finds the median of two sorted arrays using binary search.\n",
    "\n",
    "        Pseudocode:\n",
    "        1. Ensure the first array is the smaller one for efficiency.\n",
    "        2. Calculate the total length of both arrays.\n",
    "        3. Use binary search on the smaller array to find the correct partition.\n",
    "        4. Compare elements around the partition to determine if it's correct.\n",
    "        5. If correct, calculate the median based on the total length (odd/even).\n",
    "        6. Adjust the binary search range based on comparisons.\n",
    "\n",
    "        Time complexity: O(log(min(n1, n2)))\n",
    "        Space complexity: O(1)\n",
    "        Algorithm: Binary Search\n",
    "\n",
    "        Args:\n",
    "            nums1 (List[int]): The first sorted array.\n",
    "            nums2 (List[int]): The second sorted array.\n",
    "\n",
    "        Returns:\n",
    "            float: The median of the two sorted arrays.\n",
    "\n",
    "        Examples:\n",
    "            >>> solution = Solution()\n",
    "            >>> solution.findMedianSortedArrays([1, 3], [2])\n",
    "            2.0\n",
    "            >>> solution.findMedianSortedArrays([1, 2], [3, 4])\n",
    "            2.5\n",
    "            >>> solution.findMedianSortedArrays([0, 0], [0, 0])\n",
    "            0.0\n",
    "            >>> solution.findMedianSortedArrays([], [1])\n",
    "            1.0\n",
    "            >>> solution.findMedianSortedArrays([2], [])\n",
    "            2.0\n",
    "        \"\"\"\n",
    "        n1 = len(nums1)\n",
    "        n2 = len(nums2)\n",
    "        if not nums1 and not nums2:\n",
    "            return 0.0\n",
    "        \n",
    "        # Ensure nums1 is the smaller array for efficiency\n",
    "        if n1 > n2:\n",
    "            return self.findMedianSortedArrays(nums2, nums1)\n",
    "        \n",
    "        # Calculate total length and partition point\n",
    "        n = n1 + n2\n",
    "        left = (n1 + n2 + 1) // 2\n",
    "        low = 0\n",
    "        high = n1\n",
    "        \n",
    "        # Binary search on nums1 to find the correct partition\n",
    "        while low <= high:\n",
    "            mid1 = (low + high) // 2\n",
    "            mid2 = left - mid1\n",
    "            \n",
    "            l1 = float('-inf')\n",
    "            l2 = float('-inf')\n",
    "            r1 = float('inf')\n",
    "            r2 = float('inf')\n",
    "            \n",
    "            # Compare elements around the partition\n",
    "            if mid1 < n1:\n",
    "                r1 = nums1[mid1]\n",
    "            if mid2 < n2:\n",
    "                r2 = nums2[mid2]\n",
    "            if mid1 - 1 >= 0:\n",
    "                l1 = nums1[mid1 - 1]\n",
    "            if mid2 - 1 >= 0:\n",
    "                l2 = nums2[mid2 - 1]\n",
    "            \n",
    "            # Check if the partition is correct\n",
    "            if l1 <= r2 and l2 <= r1:\n",
    "                # If correct partition, calculate median\n",
    "                if n % 2 == 1:\n",
    "                    # If odd, return the max of the left elements\n",
    "                    return max(l1, l2)\n",
    "                else:\n",
    "                    # If even, return the average of the max of the left elements \n",
    "                    # and the min of the right elements\n",
    "                    return (max(l1, l2) + min(r1, r2)) / 2.0\n",
    "            elif l1 > r2:\n",
    "                # If partition is incorrect, adjust the search range\n",
    "                high = mid1 - 1\n",
    "            else:\n",
    "                # If partition is incorrect, adjust the search range\n",
    "                low = mid1 + 1\n",
    "        # If no correct partition is found, return 0\n",
    "        return 0"
   ]
  },
  {
   "cell_type": "code",
   "execution_count": 16,
   "metadata": {},
   "outputs": [
    {
     "name": "stdout",
     "output_type": "stream",
     "text": [
      "Overwriting test_solutions.py\n"
     ]
    }
   ],
   "source": [
    "%%writefile test_solutions.py\n",
    "from solutions import Solution\n",
    "import pytest\n",
    "\n",
    "@pytest.fixture\n",
    "def solution():\n",
    "    return Solution()\n",
    "\n",
    "# Test normal cases functionality\n",
    "def test_findMedianSortedArrays_normal_cases(solution):\n",
    "    assert solution.findMedianSortedArrays([1, 3], [2]) == 2.0\n",
    "    assert solution.findMedianSortedArrays([1, 2], [3, 4]) == 2.5\n",
    "    assert solution.findMedianSortedArrays([0, 0], [0, 0]) == 0.0\n",
    "    assert solution.findMedianSortedArrays([], [1]) == 1.0\n",
    "    assert solution.findMedianSortedArrays([2], []) == 2.0\n",
    "\n",
    "# Test edge cases functionality\n",
    "def test_findMedianSortedArrays_edge_cases(solution):\n",
    "    assert solution.findMedianSortedArrays([], []) == 0.0\n",
    "    assert solution.findMedianSortedArrays([1], []) == 1.0\n",
    "\n",
    "# Test special cases functionality\n",
    "def test_findMedianSortedArrays_special_cases(solution):\n",
    "    assert solution.findMedianSortedArrays([1, 2, 3], [4, 5, 6]) == 3.5\n",
    "    assert solution.findMedianSortedArrays([1, 3], [2, 4, 5]) == 3.0\n",
    "\n",
    "# Test performance cases functionality\n",
    "def test_findMedianSortedArrays_performance_cases(solution):\n",
    "    large_array1 = list(range(10000))\n",
    "    large_array2 = list(range(10000, 20000))\n",
    "    assert solution.findMedianSortedArrays(large_array1, large_array2) == 9999.5"
   ]
  },
  {
   "cell_type": "code",
   "execution_count": 17,
   "metadata": {},
   "outputs": [
    {
     "name": "stdout",
     "output_type": "stream",
     "text": [
      "\u001b[32m.\u001b[0m\u001b[32m.\u001b[0m\u001b[32m.\u001b[0m\u001b[32m.\u001b[0m\u001b[32m                                                                     [100%]\u001b[0m\n",
      "\u001b[32m\u001b[32m\u001b[1m4 passed\u001b[0m\u001b[32m in 0.01s\u001b[0m\u001b[0m\n"
     ]
    }
   ],
   "source": [
    "!pytest -q --tb=short test_solutions.py"
   ]
  },
  {
   "cell_type": "code",
   "execution_count": null,
   "metadata": {},
   "outputs": [],
   "source": []
  }
 ],
 "metadata": {
  "kernelspec": {
   "display_name": "Python 3",
   "language": "python",
   "name": "python3"
  },
  "language_info": {
   "codemirror_mode": {
    "name": "ipython",
    "version": 3
   },
   "file_extension": ".py",
   "mimetype": "text/x-python",
   "name": "python",
   "nbconvert_exporter": "python",
   "pygments_lexer": "ipython3",
   "version": "3.10.12"
  }
 },
 "nbformat": 4,
 "nbformat_minor": 2
}
