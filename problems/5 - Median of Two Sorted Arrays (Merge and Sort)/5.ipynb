{
 "cells": [
  {
   "cell_type": "code",
   "execution_count": 30,
   "metadata": {},
   "outputs": [
    {
     "name": "stdout",
     "output_type": "stream",
     "text": [
      "Overwriting solutions.py\n"
     ]
    }
   ],
   "source": [
    "%%writefile solutions.py\n",
    "from typing import List\n",
    "\n",
    "class Solution():\n",
    "    def findMedianSortedArrays(self, nums1: List[int], nums2: List[int]) -> float:\n",
    "        \"\"\"\n",
    "        Finds the median of two sorted arrays.\n",
    "\n",
    "        Pseudocode:\n",
    "        1. Merge the two arrays.\n",
    "        2. Sort the merged array.\n",
    "        3. Calculate the number of elements in the merged array.\n",
    "        4. If the number of elements is odd, return the middle element.\n",
    "        5. If the number of elements is even, return the average of the two middle elements.\n",
    "\n",
    "        Time complexity: O((m+n) log(m+n)) - due to sorting the merged array\n",
    "        Space complexity: O(m+n) - to store the merged array\n",
    "        Algorithm: Merge and Sort\n",
    "\n",
    "        Args:\n",
    "            nums1 (List[int]): The first sorted array.\n",
    "            nums2 (List[int]): The second sorted array.\n",
    "\n",
    "        Returns:\n",
    "            float: The median of the two sorted arrays.\n",
    "\n",
    "        Examples:\n",
    "            >>> solution = Solution()\n",
    "            >>> solution.findMedianSortedArrays([1, 3], [2])\n",
    "            2.0\n",
    "            >>> solution.findMedianSortedArrays([1, 2], [3, 4])\n",
    "            2.5\n",
    "            >>> solution.findMedianSortedArrays([0, 0], [0, 0])\n",
    "            0.0\n",
    "            >>> solution.findMedianSortedArrays([], [1])\n",
    "            1.0\n",
    "            >>> solution.findMedianSortedArrays([2], [])\n",
    "            2.0\n",
    "        \"\"\"\n",
    "        if not nums1 and not nums2:\n",
    "            return 0.0\n",
    "        # Merge the arrays into a single sorted array\n",
    "        merged = nums1 + nums2\n",
    "        # Sort the merged array\n",
    "        merged.sort()\n",
    "        # Calculate the number of elements in the merged array\n",
    "        n = len(merged)\n",
    "        # If the number of elements is odd, return the middle element\n",
    "        if n % 2 == 1:\n",
    "            return float(merged[n // 2])\n",
    "        # If the number of elements is even, return the average of the two middle elements\n",
    "        else:\n",
    "            return (merged[n // 2 - 1] + merged[n // 2]) / 2.0"
   ]
  },
  {
   "cell_type": "code",
   "execution_count": 31,
   "metadata": {},
   "outputs": [
    {
     "name": "stdout",
     "output_type": "stream",
     "text": [
      "Overwriting test_solutions.py\n"
     ]
    }
   ],
   "source": [
    "%%writefile test_solutions.py\n",
    "from solutions import Solution\n",
    "import pytest\n",
    "\n",
    "@pytest.fixture\n",
    "def solution():\n",
    "    return Solution()\n",
    "\n",
    "# Test normal cases functionality\n",
    "def test_findMedianSortedArrays_normal_cases(solution):\n",
    "    assert solution.findMedianSortedArrays([1, 3], [2]) == 2.0\n",
    "    assert solution.findMedianSortedArrays([1, 2], [3, 4]) == 2.5\n",
    "    assert solution.findMedianSortedArrays([0, 0], [0, 0]) == 0.0\n",
    "    assert solution.findMedianSortedArrays([2], []) == 2.0\n",
    "\n",
    "# Test edge cases functionality\n",
    "def test_findMedianSortedArrays_edge_cases(solution):\n",
    "    assert solution.findMedianSortedArrays([], []) == 0.0\n",
    "    assert solution.findMedianSortedArrays([1], []) == 1.0\n",
    "\n",
    "# Test special cases functionality\n",
    "def test_findMedianSortedArrays_special_cases(solution):\n",
    "    assert solution.findMedianSortedArrays([1, 2, 3], [4, 5, 6]) == 3.5\n",
    "    assert solution.findMedianSortedArrays([1, 3], [2, 4, 5]) == 3.0\n",
    "\n",
    "# Test performance cases functionality\n",
    "def test_findMedianSortedArrays_performance_cases(solution):\n",
    "    large_array1 = list(range(10000))\n",
    "    large_array2 = list(range(10000, 20000))\n",
    "    assert solution.findMedianSortedArrays(large_array1, large_array2) == 9999.5\n",
    "\n"
   ]
  },
  {
   "cell_type": "code",
   "execution_count": 32,
   "metadata": {},
   "outputs": [
    {
     "name": "stdout",
     "output_type": "stream",
     "text": [
      "\u001b[32m.\u001b[0m\u001b[32m.\u001b[0m\u001b[32m.\u001b[0m\u001b[32m.\u001b[0m\u001b[32m                                                                     [100%]\u001b[0m\n",
      "\u001b[32m\u001b[32m\u001b[1m4 passed\u001b[0m\u001b[32m in 0.01s\u001b[0m\u001b[0m\n"
     ]
    }
   ],
   "source": [
    "!pytest -q --tb=short test_solutions.py"
   ]
  },
  {
   "cell_type": "code",
   "execution_count": 14,
   "metadata": {},
   "outputs": [],
   "source": [
    "def merge(arr, left, mid, right):\n",
    "    n1 = mid - left + 1\n",
    "    n2 = right - mid\n",
    "\n",
    "    L = [0] * n1\n",
    "    R = [0] * n2\n",
    "\n",
    "    for i in range(n1):\n",
    "        L[i] = arr[left + i]\n",
    "    for j in range(n2):\n",
    "        R[j] = arr[mid + 1 + j]\n",
    "\n",
    "    i = 0\n",
    "    j = 0\n",
    "    k = left\n",
    "\n",
    "    while i < n1 and j < n2:\n",
    "        if L[i] <= R[j]:\n",
    "            arr[k] = L[i]\n",
    "            i += 1\n",
    "        else:\n",
    "            arr[k] = R[j]\n",
    "            j += 1\n",
    "        k += 1\n",
    "\n",
    "    while i < n1:\n",
    "        arr[k] = L[i]\n",
    "        i += 1\n",
    "        k += 1\n",
    "\n",
    "    while j < n2:\n",
    "        arr[k] = R[j]\n",
    "        j += 1\n",
    "        k += 1\n",
    "\n",
    "def merge_sort(arr, left, right):\n",
    "    if left < right:\n",
    "        mid = (left + right) // 2\n",
    "\n",
    "        merge_sort(arr, left, mid)\n",
    "        merge_sort(arr, mid + 1, right)\n",
    "        merge(arr, left, mid, right)"
   ]
  },
  {
   "cell_type": "code",
   "execution_count": 15,
   "metadata": {},
   "outputs": [
    {
     "data": {
      "text/plain": [
       "[1, 2, 3, 5, 6, 7]"
      ]
     },
     "execution_count": 15,
     "metadata": {},
     "output_type": "execute_result"
    }
   ],
   "source": [
    "nums1 = [5,6,7]\n",
    "nums2 = [1,2,3]\n",
    "arr = nums1 + nums2\n",
    "merge_sort(arr, 0, len(arr) - 1)\n",
    "arr\n"
   ]
  },
  {
   "cell_type": "code",
   "execution_count": null,
   "metadata": {},
   "outputs": [],
   "source": []
  }
 ],
 "metadata": {
  "kernelspec": {
   "display_name": "Python 3",
   "language": "python",
   "name": "python3"
  },
  "language_info": {
   "codemirror_mode": {
    "name": "ipython",
    "version": 3
   },
   "file_extension": ".py",
   "mimetype": "text/x-python",
   "name": "python",
   "nbconvert_exporter": "python",
   "pygments_lexer": "ipython3",
   "version": "3.10.12"
  }
 },
 "nbformat": 4,
 "nbformat_minor": 2
}
