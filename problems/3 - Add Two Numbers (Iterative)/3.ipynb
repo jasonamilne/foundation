{
 "cells": [
  {
   "cell_type": "code",
   "execution_count": 1,
   "metadata": {},
   "outputs": [
    {
     "name": "stdout",
     "output_type": "stream",
     "text": [
      "Overwriting ListNode.py\n"
     ]
    }
   ],
   "source": [
    "%%writefile ListNode.py\n",
    "class ListNode():\n",
    "    def __init__(self, val=0, next=None):\n",
    "        self.val = val\n",
    "        self.next = next  "
   ]
  },
  {
   "cell_type": "code",
   "execution_count": 2,
   "metadata": {},
   "outputs": [
    {
     "name": "stdout",
     "output_type": "stream",
     "text": [
      "Overwriting solutions.py\n"
     ]
    }
   ],
   "source": [
    "%%writefile solutions.py\n",
    "from typing import Optional, List\n",
    "from ListNode import ListNode\n",
    "\n",
    "class Solution():\n",
    "    def addTwoNumbers(self, l1: Optional[ListNode], l2: Optional[ListNode]) -> Optional[ListNode]:\n",
    "        \"\"\"\n",
    "        Psuedocode:\n",
    "        1. Initialize a dummy head for the result list.\n",
    "        2. Initialize a current pointer to the dummy head.\n",
    "        3. Initialize a carry variable to 0.\n",
    "        4. Traverse both lists until both are exhausted.\n",
    "        5. Add the values of the current nodes along with the carry.\n",
    "        6. Update the carry for the next iteration.\n",
    "        7. Append the digit to the result list.\n",
    "        8. Move to the next nodes.\n",
    "\n",
    "        Time complexity: O(max(m, n)) # m and n are the lengths of the two linked lists\n",
    "        Space complexity: O(max(m, n)) # the length of the result linked list is at most max(m, n) + 1\n",
    "        Algorithm: Iterative\n",
    "        \"\"\"\n",
    "        dummy_head = ListNode(0)\n",
    "        current = dummy_head\n",
    "        carry = 0\n",
    "        \n",
    "        while l1 or l2 or carry:\n",
    "            x = l1.val if l1 else 0\n",
    "            y = l2.val if l2 else 0\n",
    "            total = carry + x + y\n",
    "            carry = total // 10\n",
    "            current.next = ListNode(total % 10)\n",
    "            current = current.next\n",
    "            \n",
    "            if l1: l1 = l1.next\n",
    "            if l2: l2 = l2.next\n",
    "        \n",
    "        return dummy_head.next"
   ]
  },
  {
   "cell_type": "code",
   "execution_count": 3,
   "metadata": {},
   "outputs": [
    {
     "name": "stdout",
     "output_type": "stream",
     "text": [
      "Overwriting test_solutions.py\n"
     ]
    }
   ],
   "source": [
    "%%writefile test_solutions.py\n",
    "from solutions import Solution\n",
    "from solutions import Solution\n",
    "from ListNode import ListNode\n",
    "import pytest\n",
    "\n",
    "@pytest.fixture\n",
    "def solution():\n",
    "    return Solution()\n",
    "\n",
    "def list_to_linkedlist(lst):\n",
    "    dummy = ListNode(0)\n",
    "    current = dummy\n",
    "    for number in lst:\n",
    "        current.next = ListNode(number)\n",
    "        current = current.next\n",
    "    return dummy.next\n",
    "\n",
    "def linkedlist_to_list(node):\n",
    "    result = []\n",
    "    while node:\n",
    "        result.append(node.val)\n",
    "        node = node.next\n",
    "    return result\n",
    "\n",
    "def test_addTwoNumbers(solution):\n",
    "    l1 = list_to_linkedlist([2, 4, 3])\n",
    "    l2 = list_to_linkedlist([5, 6, 4])\n",
    "    result = solution.addTwoNumbers(l1, l2)\n",
    "    assert linkedlist_to_list(result) == [7, 0, 8]\n",
    "\n",
    "    l1 = list_to_linkedlist([0])\n",
    "    l2 = list_to_linkedlist([0])\n",
    "    result = solution.addTwoNumbers(l1, l2)\n",
    "    assert linkedlist_to_list(result) == [0]\n",
    "\n",
    "    l1 = list_to_linkedlist([9, 9, 9, 9, 9, 9, 9])\n",
    "    l2 = list_to_linkedlist([9, 9, 9, 9])\n",
    "    result = solution.addTwoNumbers(l1, l2)\n",
    "    assert linkedlist_to_list(result) == [8, 9, 9, 9, 0, 0, 0, 1]\n",
    "\n",
    "def test_addTwoNumbers_edge_cases(solution):\n",
    "    l1 = list_to_linkedlist([])\n",
    "    l2 = list_to_linkedlist([1, 2, 3])\n",
    "    result = solution.addTwoNumbers(l1, l2)\n",
    "    assert linkedlist_to_list(result) == [1, 2, 3]\n",
    "\n",
    "    l1 = list_to_linkedlist([1, 2, 3])\n",
    "    l2 = list_to_linkedlist([])\n",
    "    result = solution.addTwoNumbers(l1, l2)\n",
    "    assert linkedlist_to_list(result) == [1, 2, 3]"
   ]
  },
  {
   "cell_type": "code",
   "execution_count": 4,
   "metadata": {},
   "outputs": [
    {
     "name": "stdout",
     "output_type": "stream",
     "text": [
      "\u001b[32m.\u001b[0m\u001b[32m.\u001b[0m\u001b[32m                                                                       [100%]\u001b[0m\n",
      "\u001b[32m\u001b[32m\u001b[1m2 passed\u001b[0m\u001b[32m in 0.01s\u001b[0m\u001b[0m\n"
     ]
    }
   ],
   "source": [
    "!pytest -q --tb=short test_solutions.py"
   ]
  },
  {
   "cell_type": "code",
   "execution_count": null,
   "metadata": {},
   "outputs": [],
   "source": []
  }
 ],
 "metadata": {
  "kernelspec": {
   "display_name": "Python 3",
   "language": "python",
   "name": "python3"
  },
  "language_info": {
   "codemirror_mode": {
    "name": "ipython",
    "version": 3
   },
   "file_extension": ".py",
   "mimetype": "text/x-python",
   "name": "python",
   "nbconvert_exporter": "python",
   "pygments_lexer": "ipython3",
   "version": "3.10.12"
  }
 },
 "nbformat": 4,
 "nbformat_minor": 2
}
