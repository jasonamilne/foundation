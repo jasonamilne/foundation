{
 "cells": [
  {
   "cell_type": "code",
   "execution_count": 4,
   "metadata": {},
   "outputs": [
    {
     "name": "stdout",
     "output_type": "stream",
     "text": [
      "Overwriting linear_regression.py\n"
     ]
    }
   ],
   "source": [
    "%%writefile linear_regression.py\n",
    "\n",
    "class LinearRegression():\n",
    "    def __init__(self):\n",
    "        self.coef_ = None\n",
    "        self.intercept_ = None\n",
    "\n",
    "    def fit(self, X, y):\n",
    "        \"\"\"\n",
    "        Fit linear model.\n",
    "\n",
    "        Pseudocode:\n",
    "        1. Calculate the mean of X and y\n",
    "        2. Calculate the coefficients using the formula:\n",
    "            coef_ = (sum((xi - x_mean) * (yi - y_mean))) / (sum((xi - x_mean)^2))\n",
    "        3. Calculate the intercept using the formula:\n",
    "            intercept_ = y_mean - coef_ * x_mean\n",
    "\n",
    "        Time complexity: O(n * m) # n is the number of samples, m is the number of features\n",
    "        Space complexity: O(m) # m is the number of features\n",
    "        Algorithm: Ordinary Least Squares (OLS) for simple linear regression\n",
    "\n",
    "        Args:\n",
    "            X : array-like of shape (n_samples, n_features)\n",
    "            Training data\n",
    "            y : array-like of shape (n_samples,)\n",
    "            Target \n",
    "\n",
    "        Returns:\n",
    "            LinearRegression: The fitted model instance.\n",
    "\n",
    "        Examples:\n",
    "        >>> model = LinearRegression()\n",
    "        >>> model.fit(X = [[1], [2], [3], [4], [5]], y = [2, 4, 5, 4, 5])\n",
    "        >>> model.coef_\n",
    "        >>> model.intercept_\n",
    "        >>> model.predict(X_new = [6, 7, 8, 9, 10])\n",
    "        \"\"\"\n",
    "        n_samples, n_features = len(X), len(X[0])\n",
    "\n",
    "        # Calculate the mean of X and y\n",
    "        x_mean = [sum(X[i][j] for i in range(n_samples)) / n_samples for j in range(n_features)]\n",
    "        y_mean = sum(y) / n_samples\n",
    "\n",
    "        # Calculate the coefficients using the formula:\n",
    "        # coef_ = (sum((xi - x_mean) * (yi - y_mean))) / (sum((xi - x_mean)^2))\n",
    "        numerator = sum([(X[i][j] - x_mean[j]) * (y[i] - y_mean) for i in range(n_samples) for j in range(n_features)])\n",
    "        denominator = sum([(X[i][j] - x_mean[j]) ** 2 for i in range(n_samples) for j in range(n_features)])\n",
    "        self.coef_ = numerator / denominator\n",
    "\n",
    "        # Calculate the intercept using the formula:\n",
    "        # intercept_ = y_mean - coef_ * x_mean\n",
    "        self.intercept_ = y_mean - self.coef_ * sum(x_mean) / len(x_mean)\n",
    "\n",
    "        return self\n",
    "    \n",
    "    def predict(self, X_new):\n",
    "        # Ensure X is an array\n",
    "        return [self.intercept_ + self.coef_ * x for x in X_new]\n",
    "        # return [self.intercept_ + self.coef_ * x[0] for x in X_new]\n",
    "        # X_new = [[6], [7], [8], [9], [10]]"
   ]
  },
  {
   "cell_type": "code",
   "execution_count": 5,
   "metadata": {},
   "outputs": [
    {
     "name": "stdout",
     "output_type": "stream",
     "text": [
      "Overwriting test_linear_regression.py\n"
     ]
    }
   ],
   "source": [
    "%%writefile test_linear_regression.py\n",
    "from linear_regression import LinearRegression\n",
    "import pytest\n",
    "\n",
    "@pytest.fixture\n",
    "def model():\n",
    "    return LinearRegression()\n",
    "\n",
    "def test_normal_case(model):\n",
    "    model.fit(X = [[1], [2], [3], [4], [5]], y = [1, 2, 3, 4, 5])\n",
    "    assert model.coef_ == 1.0\n",
    "    assert model.intercept_ == 0.0\n",
    "    assert model.predict(X_new = [6, 7, 8, 9, 10]) == [6.0, 7.0, 8.0, 9.0, 10.0]    "
   ]
  },
  {
   "cell_type": "code",
   "execution_count": 6,
   "metadata": {},
   "outputs": [
    {
     "name": "stdout",
     "output_type": "stream",
     "text": [
      "\u001b[32m.\u001b[0m\u001b[32m                                                                        [100%]\u001b[0m\n",
      "\u001b[32m\u001b[32m\u001b[1m1 passed\u001b[0m\u001b[32m in 0.01s\u001b[0m\u001b[0m\n"
     ]
    }
   ],
   "source": [
    "!pytest -q --tb=short test_linear_regression.py"
   ]
  }
 ],
 "metadata": {
  "kernelspec": {
   "display_name": "Python 3",
   "language": "python",
   "name": "python3"
  },
  "language_info": {
   "codemirror_mode": {
    "name": "ipython",
    "version": 3
   },
   "file_extension": ".py",
   "mimetype": "text/x-python",
   "name": "python",
   "nbconvert_exporter": "python",
   "pygments_lexer": "ipython3",
   "version": "3.10.12"
  }
 },
 "nbformat": 4,
 "nbformat_minor": 2
}
