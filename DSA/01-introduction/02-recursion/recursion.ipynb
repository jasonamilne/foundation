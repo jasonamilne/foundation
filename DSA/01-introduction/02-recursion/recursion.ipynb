{
 "cells": [
  {
   "cell_type": "markdown",
   "metadata": {},
   "source": [
    "\n",
    "**Proof by induction: factorial function**\n",
    "\n",
    "Let $P(n)$ be the statement: $n! = n \\times (n-1) \\times (n-2) \\times ... \\times 2 \\times 1$\n",
    "\n",
    "Base case: For $n = 0$, we have $0! = 1$ (by definition), which is true.\n",
    "\n",
    "Inductive step: \n",
    "\n",
    "Assume $P(k)$ is true for some $k \\geq 0$. \n",
    "\n",
    "We need to prove $P(k+1)$ is true.\n",
    "\n",
    "$P(k)$: $k! = k \\times (k-1) \\times (k-2) \\times ... \\times 2 \\times 1$\n",
    "\n",
    "$P(k+1)$: \n",
    "     $(k+1)! = (k+1) \\times k!$\n",
    "             $= (k+1) \\times [k \\times (k-1) \\times (k-2) \\times ... \\times 2 \\times 1]$\n",
    "             $= (k+1) \\times k \\times (k-1) \\times (k-2) \\times ... \\times 2 \\times 1$\n",
    " \n",
    "This is indeed the correct expression for $(k+1)!$, so $P(k+1)$ is true.\n",
    "\n",
    "By the principle of mathematical induction, $P(n)$ is true for all non-negative integers $n$."
   ]
  },
  {
   "cell_type": "code",
   "execution_count": null,
   "metadata": {},
   "outputs": [],
   "source": [
    "def factorial(n):\n",
    "    if n == 0:\n",
    "        return 1  # Base case\n",
    "    return n * factorial(n - 1)  # Recursive case"
   ]
  },
  {
   "cell_type": "markdown",
   "metadata": {},
   "source": [
    "**Proof by induction: combination function**\n",
    "\n",
    "Let $P(n, r)$ be the statement: \n",
    "\n",
    "Base case: For $r = 0$ or $r = n$, the number of combinations is 1, which is true by definition.\n",
    "\n",
    "Inductive step:\n",
    "\n",
    "Assume $P(k, r)$ is true for some $k \\geq r$.\n",
    "\n",
    "We need to prove $P(k+1, r)$ is true.\n",
    "\n",
    "$P(k, r)$: The number of combinations of $k$ items taken $r$ at a time is given by the formula:\n",
    "\n",
    "$$\n",
    "C(k, r) = \\frac{k!}{r!(k-r)!}\n",
    "$$\n",
    "\n",
    "$P(k+1, r)$: The number of combinations of $k+1$ items taken $r$ at a time can be expressed as:\n",
    "\n",
    "$$\n",
    "C(k+1, r) = C(k, r) + C(k, r-1)\n",
    "$$\n",
    "\n",
    "By the inductive hypothesis, we assume:\n",
    "\n",
    "$$\n",
    "C(k, r) = \\frac{k!}{r!(k-r)!}\n",
    "$$\n",
    "\n",
    "$$\n",
    "C(k, r-1) = \\frac{k!}{(r-1)!(k-r+1)!}\n",
    "$$\n",
    "\n",
    "Thus, \n",
    "\n",
    "$$\n",
    "C(k+1, r) = \\frac{k!}{r!(k-r)!} + \\frac{k!}{(r-1)!(k-r+1)!}\n",
    "$$\n",
    "\n",
    "Simplifying the right-hand side, we find:\n",
    "\n",
    "$$\n",
    "C(k+1, r) = \\frac{(k+1)!}{r!(k+1-r)!}\n",
    "$$\n",
    "\n",
    "This is indeed the correct expression for $C(k+1, r)$, so $P(k+1, r)$ is true.\n",
    "\n",
    "By the principle of mathematical induction, $P(n, r)$ is true for all non-negative integers $n$ and $r$ where $0 \\leq r \\leq n$."
   ]
  },
  {
   "cell_type": "code",
   "execution_count": 1,
   "metadata": {},
   "outputs": [
    {
     "data": {
      "text/plain": [
       "6"
      ]
     },
     "execution_count": 1,
     "metadata": {},
     "output_type": "execute_result"
    }
   ],
   "source": [
    "def combination(n,r):\n",
    "    \"\"\"\n",
    "    Calculate the number of combinations of n items taken r at a time.\n",
    "    \"\"\"\n",
    "    if r > n - r:\n",
    "        r = n - r\n",
    "    result = 1\n",
    "    for i in range(r):\n",
    "        result = result * (n - i)\n",
    "        result = result // (i + 1)\n",
    "    return result\n",
    "\n",
    "combination(4, 2)"
   ]
  },
  {
   "cell_type": "code",
   "execution_count": 2,
   "metadata": {},
   "outputs": [
    {
     "data": {
      "text/plain": [
       "6"
      ]
     },
     "execution_count": 2,
     "metadata": {},
     "output_type": "execute_result"
    }
   ],
   "source": [
    "def combination_recursive(k, r):\n",
    "    \"\"\"\n",
    "    Calculate the number of combinations of n items taken r at a time using recursion.\n",
    "    \"\"\"\n",
    "    if r == 0 or r == k:\n",
    "        return 1\n",
    "    return combination_recursive(k - 1, r - 1) + combination_recursive(k - 1, r)\n",
    "\n",
    "combination_recursive(4, 2)"
   ]
  }
 ],
 "metadata": {
  "kernelspec": {
   "display_name": "Python 3",
   "language": "python",
   "name": "python3"
  },
  "language_info": {
   "codemirror_mode": {
    "name": "ipython",
    "version": 3
   },
   "file_extension": ".py",
   "mimetype": "text/x-python",
   "name": "python",
   "nbconvert_exporter": "python",
   "pygments_lexer": "ipython3",
   "version": "3.10.12"
  }
 },
 "nbformat": 4,
 "nbformat_minor": 2
}
